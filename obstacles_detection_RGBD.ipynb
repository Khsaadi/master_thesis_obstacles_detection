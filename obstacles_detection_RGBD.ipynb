{
 "cells": [
  {
   "cell_type": "markdown",
   "metadata": {},
   "source": [
    "# Import packages"
   ]
  },
  {
   "cell_type": "code",
   "execution_count": 107,
   "metadata": {},
   "outputs": [],
   "source": [
    "from pyntcloud import PyntCloud\n",
    "import math\n",
    "from PIL import Image\n",
    "import glob \n",
    "import cv2\n",
    "import pandas as pd\n",
    "import numpy as np\n",
    "import matplotlib.pyplot as plt\n",
    "from skimage.io import imread, imshow\n",
    "from IPython.display import display\n",
    "from scipy import ndimage\n",
    "from sklearn.linear_model import LogisticRegression\n",
    "from sklearn.metrics import accuracy_score\n",
    "from sklearn.preprocessing import MinMaxScaler\n",
    "from sklearn.model_selection import train_test_split"
   ]
  },
  {
   "cell_type": "markdown",
   "metadata": {},
   "source": [
    "# Initialize some parameters"
   ]
  },
  {
   "cell_type": "code",
   "execution_count": 108,
   "metadata": {},
   "outputs": [],
   "source": [
    "focalLength = 365.2946 # The focalLength is a specific characteristic of the camera.\n",
    "centerX=259.7606   # The values of centerX and centerY are obtained from intrinsic camera calibration.\n",
    "centerY=205.8992\n",
    "scalingFactor = 100.0# It is equal to 1000 because the depth is in milimeter.             "
   ]
  },
  {
   "cell_type": "code",
   "execution_count": 109,
   "metadata": {},
   "outputs": [],
   "source": [
    "def cloud(frame,frame2,width,height):\n",
    "    # This function returns a 3D points cloud from an RGB-D frame\n",
    "    \n",
    "    count=0\n",
    "    points=[]\n",
    "    for u in range(width):\n",
    "        for v in range(height):\n",
    "            color = frame2[u,v]\n",
    "            Z = frame[u,v]/ scalingFactor\n",
    "            if Z==0: continue\n",
    "            X = (v - centerX) * Z / focalLength\n",
    "            Y = (u - centerY) * Z / focalLength\n",
    "            points.append([X,Y,Z,np.uint(color[0]),np.uint(color[1]),np.uint(color[2])])\n",
    "            count+=1\n",
    "    points=np.array(points)\n",
    "    points=pd.DataFrame(points,columns=['x', 'y','z',\"red\",\"green\",\"blue\"])\n",
    "    points[\"red\"]=points[\"red\"].astype('uint8')\n",
    "    points[\"green\"]=points[\"green\"].astype('uint8')\n",
    "    points[\"blue\"]=points[\"blue\"].astype('uint8')\n",
    "    mycloud=PyntCloud(points)\n",
    "    return mycloud    "
   ]
  },
  {
   "cell_type": "code",
   "execution_count": 110,
   "metadata": {},
   "outputs": [],
   "source": [
    "def medfilter(frame1):\n",
    "    # this function removes pepper noise\n",
    "    fig = plt.figure()\n",
    "    image_gray=frame1\n",
    "    res= ndimage.median_filter(frame1, size=5)\n",
    "    return res"
   ]
  },
  {
   "cell_type": "code",
   "execution_count": 111,
   "metadata": {},
   "outputs": [],
   "source": [
    "def admissible_region(SMAR,DRG,TDBG,current_cloud):\n",
    "    # This function eliminates the uselsess regions for the robot(what behind the rebot,...)\n",
    "    admi_region=current_cloud.points.loc[(current_cloud.points['y'] >= TDBG )]\n",
    "    admi_region=pd.DataFrame(admi_region,columns=['x', 'y','z',\"red\",\"green\",\"blue\"])\n",
    "    admi_region=admi_region.loc[(admi_region['y'] <= (SMAR+ DRG))]\n",
    "    admi_region=pd.DataFrame(admi_region,columns=['x', 'y','z',\"red\",\"green\",\"blue\"])\n",
    "    admi_region=admi_region.loc[(admi_region['z'] <= 4)]\n",
    "    admi_region=pd.DataFrame(admi_region,columns=['x', 'y','z',\"red\",\"green\",\"blue\"])\n",
    "    admi_region=admi_region.loc[(admi_region['z'] >= 0)]\n",
    "    admi_region=pd.DataFrame(admi_region,columns=['x', 'y','z',\"red\",\"green\",\"blue\"])\n",
    "    mycloud1=PyntCloud(admi_region)\n",
    "    return mycloud1"
   ]
  },
  {
   "cell_type": "code",
   "execution_count": 112,
   "metadata": {},
   "outputs": [],
   "source": [
    "def videoread(path1,path2):\n",
    "     cap = cv2.VideoCapture(path1)\n",
    "     cap1= cv2.VideoCapture(path2)\n",
    "     fps = int(cap.get(5))# number of frames per second      # 'Depth.mp4'\n",
    "     width  = int(cap.get(3))# width of a frame\n",
    "     height = int(cap.get(4))# height of a frame\n",
    "     fps1 = int(cap1.get(5))# number of frames per second      # 'Depth.mp4'\n",
    "     width1  = int(cap1.get(3))# width of a frame\n",
    "     height1 = int(cap1.get(4))# height of a frame\n",
    "     a1=int(cap.get(cv2.CAP_PROP_FRAME_COUNT)) # number of frames in the video\n",
    "     a2=int(cap.get(cv2.CAP_PROP_FRAME_COUNT))\n",
    "     return cap,cap1, a1,a2,width,height,fps"
   ]
  },
  {
   "cell_type": "code",
   "execution_count": 113,
   "metadata": {},
   "outputs": [],
   "source": [
    "def voxelgridfilter(current_cloud):\n",
    "    # This filter aims to remove outlier measurements: representing each 3D box by its centroid.\n",
    "    # This filter aims to reduce the computational complexity of the code.\n",
    "    voxelgrid_id = current_cloud.add_structure(\"voxelgrid\", size_x=0.025, size_y=0.025, size_z=0.025)\n",
    "    new_cloud = current_cloud.get_sample(\"voxelgrid_centroids\",voxelgrid_id=voxelgrid_id)\n",
    "    new_cloud1=PyntCloud(new_cloud)\n",
    "    return new_cloud1"
   ]
  },
  {
   "cell_type": "code",
   "execution_count": 114,
   "metadata": {},
   "outputs": [],
   "source": [
    "def normalvectors(n,cloud):\n",
    "    # This function gives the normal vector of each point that belongs to the cloud.\n",
    "    neighbors=cloud.get_neighbors(k=n)\n",
    "    cloud.add_scalar_field(\"normals\", k_neighbors=neighbors)\n",
    "    return cloud"
   ]
  },
  {
   "cell_type": "code",
   "execution_count": 115,
   "metadata": {},
   "outputs": [],
   "source": [
    "def Determine_obs(N,θ,N1,cloud,number,grad):\n",
    "    # This function returns the point cloud of the obstacles in the scence.\n",
    "    # N is the minimum number of neighbors\n",
    "    # R is the radius of spherical neighborhood\n",
    "    # θ is the maximum angle of passable slopes\n",
    "    cs=math.cos(θ)# threshold\n",
    "    obs=cloud.points.loc[(abs(cloud.points.iloc[ :, 4])  < cs)]# determine obstacle points\n",
    "    safe=cloud.points.loc[(abs(cloud.points.iloc[ :, 4]) >= cs)]#determine non-obstacle points\n",
    "    new_list_safe=safe.values.tolist()\n",
    "    new_df_negative=[] #non obstacle pixels\n",
    "    for pi_safe in range(len(new_list_safe)):\n",
    "        s_safe=np.array(new_list_safe[pi_safe])\n",
    "        v_safe=int(round(focalLength*list(s_safe)[0]/list(s_safe)[2]+centerX,2))\n",
    "        u_safe=int(round(focalLength*list(s_safe)[1]/list(s_safe)[2]+centerY,2))\n",
    "        if u_safe< grad.shape[0] and v_safe< grad.shape[1]:\n",
    "              l_safe=[number,u_safe,v_safe,new_list_safe[pi_safe][4],0,grad[u_safe,v_safe],0]\n",
    "              new_df_negative.append(l_safe)\n",
    "    \n",
    "    new_cloud2=PyntCloud(obs)\n",
    "    neighall=cloud.get_neighbors(k=7)\n",
    "    lindex=[]\n",
    "    for i in range(cloud.points.shape[0]):\n",
    "            if (abs(cloud.points.iloc[i, 4]) < cs):\n",
    "                lindex.append(neighall[i])\n",
    "    new_list1=cloud.points.values.tolist()\n",
    "    new_list=obs.values.tolist()\n",
    "    final_points=[]\n",
    "    new_df_positive=[]#to save obstacle pixels\n",
    "    for pi in range(len(new_list)):\n",
    "        s=np.array(new_list[pi][:3])\n",
    "        n=0\n",
    "        for pj in (list(lindex[pi])):\n",
    "                if  (new_list1[pj][4]<cs) :\n",
    "                        n=n+1  \n",
    "        if(n> int(N1/2)):\n",
    "                v=int(round(focalLength*list(s)[0]/list(s)[2]+centerX,2))\n",
    "                u=int(round(focalLength*list(s)[1]/list(s)[2]+centerY,2))\n",
    "                l=[number,u,v,new_list[pi][4],1,grad[u,v],1]\n",
    "                new_df_positive.append(l)\n",
    "                final_points.append(s)\n",
    "    new_df_positive=np.array(new_df_positive)\n",
    "    new_df_positive=pd.DataFrame(new_df_positive,columns=['frame','u', 'v','slope','y','grad','e'])\n",
    "    new_df_negative=np.array(new_df_negative)\n",
    "    new_df_negative=pd.DataFrame(new_df_negative,columns=['frame','u', 'v','slope','y','grad','e'])\n",
    "    \n",
    "    return final_points,new_df_positive,new_df_negative # new_df_positive contains the information of obstacle points, new_df_negative contains the information of safe pixels "
   ]
  },
  {
   "cell_type": "code",
   "execution_count": 116,
   "metadata": {},
   "outputs": [],
   "source": [
    "def result(final_points,color,width,height):\n",
    "    # This function represents the obtained points that correspond to obstacles in the scene.\n",
    "    v=[int(round(focalLength*cr[0]/cr[2]+centerX,2)) for cr in  final_points ]\n",
    "    u=[int(round(focalLength*cr[1]/cr[2]+centerY,2)) for cr in final_points]\n",
    "    \n",
    "    for (i,j) in zip (u,v):\n",
    "                color[i,j]= (255,0,0)\n",
    "                \n",
    "                \n",
    "                \n",
    "            \n",
    "    return (color)"
   ]
  },
  {
   "cell_type": "code",
   "execution_count": 117,
   "metadata": {},
   "outputs": [],
   "source": [
    "def main(n,θ,N,N1,SMAR,DRG,TDBG,path,path1):\n",
    "    # This is the main function that contains all the operations.\n",
    "    # This function returns the safe points and the obstacle points of each frame\n",
    "    cap,cap1,a,a1,width,height,fps= videoread(path,path1)\n",
    "    listofresultedframes=[]\n",
    "    list_of_df_negatives=[]\n",
    "    list_of_df_positives=[]\n",
    "    list_of_grad=[]\n",
    "    for k in range(10):\n",
    "            ret, frame = cap.read()\n",
    "            gray = cv2.cvtColor(frame, cv2.COLOR_BGR2GRAY)\n",
    "            (w, h)= gray.shape\n",
    "            ret1, frame1=cap1.read()\n",
    "            rgb = cv2.resize(frame1,(h, w))\n",
    "            #framevisualization(gray,rgb)\n",
    "            gray=medfilter(gray)\n",
    "            window_name = ('Sobel Edge Detector')\n",
    "            scale = 1\n",
    "            delta = 0\n",
    "            ddepth = cv2.CV_16S\n",
    "            grad_x = cv2.Sobel(gray, ddepth,1, 0, ksize=3, scale=scale, delta=delta, borderType=cv2.BORDER_DEFAULT)\n",
    "            grad_y = cv2.Sobel(gray, ddepth, 0, 1, ksize=3, scale=scale, delta=delta, borderType=cv2.BORDER_DEFAULT)\n",
    "            abs_grad_x = cv2.convertScaleAbs(grad_x)\n",
    "            abs_grad_y = cv2.convertScaleAbs(grad_y)\n",
    "            grad = cv2.addWeighted(abs_grad_x, 0.5, abs_grad_y, 0.5, 0)\n",
    "            if ret == True:\n",
    "                mycloud=cloud(gray,rgb,w,h)\n",
    "                mycloud1=admissible_region(SMAR,DRG,TDBG,mycloud)\n",
    "                mycloud2=voxelgridfilter(mycloud1)\n",
    "                mycloud3=normalvectors(n,mycloud2)\n",
    "                final_points,new_df_positive,new_df_negative=Determine_obs(N,θ,N1,mycloud3,k,grad)\n",
    "                list_of_df_positives.append(new_df_positive)\n",
    "                list_of_df_negatives.append(new_df_negative)\n",
    "                b = np.isnan(np.array(final_points))\n",
    "                img=result(final_points,rgb,w,h)\n",
    "                listofresultedframes.append(img)\n",
    "    k=listofresultedframes\n",
    "    return(k,fps,width,height,list_of_df_positives,list_of_df_negatives)"
   ]
  },
  {
   "cell_type": "code",
   "execution_count": 118,
   "metadata": {},
   "outputs": [
    {
     "data": {
      "text/plain": [
       "<Figure size 432x288 with 0 Axes>"
      ]
     },
     "metadata": {},
     "output_type": "display_data"
    },
    {
     "data": {
      "text/plain": [
       "<Figure size 432x288 with 0 Axes>"
      ]
     },
     "metadata": {},
     "output_type": "display_data"
    },
    {
     "data": {
      "text/plain": [
       "<Figure size 432x288 with 0 Axes>"
      ]
     },
     "metadata": {},
     "output_type": "display_data"
    },
    {
     "data": {
      "text/plain": [
       "<Figure size 432x288 with 0 Axes>"
      ]
     },
     "metadata": {},
     "output_type": "display_data"
    },
    {
     "data": {
      "text/plain": [
       "<Figure size 432x288 with 0 Axes>"
      ]
     },
     "metadata": {},
     "output_type": "display_data"
    },
    {
     "data": {
      "text/plain": [
       "<Figure size 432x288 with 0 Axes>"
      ]
     },
     "metadata": {},
     "output_type": "display_data"
    },
    {
     "data": {
      "text/plain": [
       "<Figure size 432x288 with 0 Axes>"
      ]
     },
     "metadata": {},
     "output_type": "display_data"
    },
    {
     "data": {
      "text/plain": [
       "<Figure size 432x288 with 0 Axes>"
      ]
     },
     "metadata": {},
     "output_type": "display_data"
    },
    {
     "data": {
      "text/plain": [
       "<Figure size 432x288 with 0 Axes>"
      ]
     },
     "metadata": {},
     "output_type": "display_data"
    },
    {
     "data": {
      "text/plain": [
       "<Figure size 432x288 with 0 Axes>"
      ]
     },
     "metadata": {},
     "output_type": "display_data"
    }
   ],
   "source": [
    "k,fps,width,height,list_of_df_positives,list_of_df_negatives= main(5,math.pi / 3,3,7,0.25,0.35,-0.3,\"Depth1.mp4\",\"RGB1.mp4\")"
   ]
  },
  {
   "cell_type": "code",
   "execution_count": 119,
   "metadata": {},
   "outputs": [],
   "source": [
    "#get the data of posistive examples: obstacle points\n",
    "df_positive = pd.concat(list_of_df_positives)"
   ]
  },
  {
   "cell_type": "code",
   "execution_count": 120,
   "metadata": {},
   "outputs": [
    {
     "data": {
      "text/html": [
       "<div>\n",
       "<style scoped>\n",
       "    .dataframe tbody tr th:only-of-type {\n",
       "        vertical-align: middle;\n",
       "    }\n",
       "\n",
       "    .dataframe tbody tr th {\n",
       "        vertical-align: top;\n",
       "    }\n",
       "\n",
       "    .dataframe thead th {\n",
       "        text-align: right;\n",
       "    }\n",
       "</style>\n",
       "<table border=\"1\" class=\"dataframe\">\n",
       "  <thead>\n",
       "    <tr style=\"text-align: right;\">\n",
       "      <th></th>\n",
       "      <th>frame</th>\n",
       "      <th>u</th>\n",
       "      <th>v</th>\n",
       "      <th>slope</th>\n",
       "      <th>y</th>\n",
       "      <th>grad</th>\n",
       "      <th>e</th>\n",
       "    </tr>\n",
       "  </thead>\n",
       "  <tbody>\n",
       "    <tr>\n",
       "      <th>0</th>\n",
       "      <td>0.0</td>\n",
       "      <td>67.0</td>\n",
       "      <td>2.0</td>\n",
       "      <td>0.238325</td>\n",
       "      <td>1.0</td>\n",
       "      <td>4.0</td>\n",
       "      <td>1.0</td>\n",
       "    </tr>\n",
       "    <tr>\n",
       "      <th>1</th>\n",
       "      <td>0.0</td>\n",
       "      <td>76.0</td>\n",
       "      <td>2.0</td>\n",
       "      <td>-0.053750</td>\n",
       "      <td>1.0</td>\n",
       "      <td>4.0</td>\n",
       "      <td>1.0</td>\n",
       "    </tr>\n",
       "    <tr>\n",
       "      <th>2</th>\n",
       "      <td>0.0</td>\n",
       "      <td>89.0</td>\n",
       "      <td>3.0</td>\n",
       "      <td>-0.071315</td>\n",
       "      <td>1.0</td>\n",
       "      <td>4.0</td>\n",
       "      <td>1.0</td>\n",
       "    </tr>\n",
       "    <tr>\n",
       "      <th>3</th>\n",
       "      <td>0.0</td>\n",
       "      <td>101.0</td>\n",
       "      <td>3.0</td>\n",
       "      <td>-0.072098</td>\n",
       "      <td>1.0</td>\n",
       "      <td>4.0</td>\n",
       "      <td>1.0</td>\n",
       "    </tr>\n",
       "    <tr>\n",
       "      <th>4</th>\n",
       "      <td>0.0</td>\n",
       "      <td>115.0</td>\n",
       "      <td>4.0</td>\n",
       "      <td>-0.045022</td>\n",
       "      <td>1.0</td>\n",
       "      <td>2.0</td>\n",
       "      <td>1.0</td>\n",
       "    </tr>\n",
       "  </tbody>\n",
       "</table>\n",
       "</div>"
      ],
      "text/plain": [
       "   frame      u    v     slope    y  grad    e\n",
       "0    0.0   67.0  2.0  0.238325  1.0   4.0  1.0\n",
       "1    0.0   76.0  2.0 -0.053750  1.0   4.0  1.0\n",
       "2    0.0   89.0  3.0 -0.071315  1.0   4.0  1.0\n",
       "3    0.0  101.0  3.0 -0.072098  1.0   4.0  1.0\n",
       "4    0.0  115.0  4.0 -0.045022  1.0   2.0  1.0"
      ]
     },
     "execution_count": 120,
     "metadata": {},
     "output_type": "execute_result"
    }
   ],
   "source": [
    "df_positive.head()"
   ]
  },
  {
   "cell_type": "code",
   "execution_count": 121,
   "metadata": {},
   "outputs": [],
   "source": [
    "#get the data of negative examples: safe points\n",
    "df_negative = pd.concat(list_of_df_negatives)"
   ]
  },
  {
   "cell_type": "code",
   "execution_count": 122,
   "metadata": {},
   "outputs": [
    {
     "data": {
      "text/plain": [
       "(11274, 7)"
      ]
     },
     "execution_count": 122,
     "metadata": {},
     "output_type": "execute_result"
    }
   ],
   "source": [
    "df_negative.shape"
   ]
  },
  {
   "cell_type": "code",
   "execution_count": 123,
   "metadata": {},
   "outputs": [
    {
     "data": {
      "text/html": [
       "<div>\n",
       "<style scoped>\n",
       "    .dataframe tbody tr th:only-of-type {\n",
       "        vertical-align: middle;\n",
       "    }\n",
       "\n",
       "    .dataframe tbody tr th {\n",
       "        vertical-align: top;\n",
       "    }\n",
       "\n",
       "    .dataframe thead th {\n",
       "        text-align: right;\n",
       "    }\n",
       "</style>\n",
       "<table border=\"1\" class=\"dataframe\">\n",
       "  <thead>\n",
       "    <tr style=\"text-align: right;\">\n",
       "      <th></th>\n",
       "      <th>frame</th>\n",
       "      <th>u</th>\n",
       "      <th>v</th>\n",
       "      <th>slope</th>\n",
       "      <th>y</th>\n",
       "      <th>grad</th>\n",
       "      <th>e</th>\n",
       "    </tr>\n",
       "  </thead>\n",
       "  <tbody>\n",
       "    <tr>\n",
       "      <th>0</th>\n",
       "      <td>0.0</td>\n",
       "      <td>343.0</td>\n",
       "      <td>0.0</td>\n",
       "      <td>0.538736</td>\n",
       "      <td>0.0</td>\n",
       "      <td>0.0</td>\n",
       "      <td>0.0</td>\n",
       "    </tr>\n",
       "    <tr>\n",
       "      <th>1</th>\n",
       "      <td>0.0</td>\n",
       "      <td>328.0</td>\n",
       "      <td>14.0</td>\n",
       "      <td>0.547290</td>\n",
       "      <td>0.0</td>\n",
       "      <td>4.0</td>\n",
       "      <td>0.0</td>\n",
       "    </tr>\n",
       "    <tr>\n",
       "      <th>2</th>\n",
       "      <td>0.0</td>\n",
       "      <td>347.0</td>\n",
       "      <td>0.0</td>\n",
       "      <td>0.924051</td>\n",
       "      <td>0.0</td>\n",
       "      <td>1.0</td>\n",
       "      <td>0.0</td>\n",
       "    </tr>\n",
       "    <tr>\n",
       "      <th>3</th>\n",
       "      <td>0.0</td>\n",
       "      <td>354.0</td>\n",
       "      <td>2.0</td>\n",
       "      <td>0.745034</td>\n",
       "      <td>0.0</td>\n",
       "      <td>5.0</td>\n",
       "      <td>0.0</td>\n",
       "    </tr>\n",
       "    <tr>\n",
       "      <th>4</th>\n",
       "      <td>0.0</td>\n",
       "      <td>351.0</td>\n",
       "      <td>3.0</td>\n",
       "      <td>-0.732903</td>\n",
       "      <td>0.0</td>\n",
       "      <td>2.0</td>\n",
       "      <td>0.0</td>\n",
       "    </tr>\n",
       "  </tbody>\n",
       "</table>\n",
       "</div>"
      ],
      "text/plain": [
       "   frame      u     v     slope    y  grad    e\n",
       "0    0.0  343.0   0.0  0.538736  0.0   0.0  0.0\n",
       "1    0.0  328.0  14.0  0.547290  0.0   4.0  0.0\n",
       "2    0.0  347.0   0.0  0.924051  0.0   1.0  0.0\n",
       "3    0.0  354.0   2.0  0.745034  0.0   5.0  0.0\n",
       "4    0.0  351.0   3.0 -0.732903  0.0   2.0  0.0"
      ]
     },
     "execution_count": 123,
     "metadata": {},
     "output_type": "execute_result"
    }
   ],
   "source": [
    "df_negative.head()"
   ]
  },
  {
   "cell_type": "code",
   "execution_count": 124,
   "metadata": {},
   "outputs": [
    {
     "name": "stdout",
     "output_type": "stream",
     "text": [
      "(17122, 7)\n",
      "(11274, 7)\n"
     ]
    }
   ],
   "source": [
    "print(df_positive.shape)\n",
    "print(df_negative.shape)"
   ]
  },
  {
   "cell_type": "code",
   "execution_count": 125,
   "metadata": {},
   "outputs": [],
   "source": [
    "l_data=[df_positive,df_negative]\n",
    "data = pd.concat(l_data)\n",
    "#get the training data by merging data from the two classes, negative and positive"
   ]
  },
  {
   "cell_type": "code",
   "execution_count": 126,
   "metadata": {},
   "outputs": [
    {
     "data": {
      "text/plain": [
       "(28396, 7)"
      ]
     },
     "execution_count": 126,
     "metadata": {},
     "output_type": "execute_result"
    }
   ],
   "source": [
    "\n",
    "data.shape"
   ]
  },
  {
   "cell_type": "code",
   "execution_count": 127,
   "metadata": {},
   "outputs": [],
   "source": [
    "e1=[0 for i in range(data.shape[0])]\n",
    "e2=[0 for i in range(data.shape[0])]\n",
    "e3=[0 for i in range(data.shape[0])]\n",
    "e4=[0 for i in range(data.shape[0])]\n",
    "e5=[0 for i in range(data.shape[0])]\n",
    "e6=[0 for i in range(data.shape[0])]\n",
    "e7=[0 for i in range(data.shape[0])]\n",
    "e8=[0 for i in range(data.shape[0])]\n",
    "e9=[0 for i in range(data.shape[0])]\n",
    "data['e1']=e1\n",
    "data['e2']=e2\n",
    "data['e3']=e3\n",
    "data['e4']=e4\n",
    "data['e5']=e5\n",
    "data['e6']=e6\n",
    "data['e7']=e7\n",
    "data['e8']=e8\n",
    "data['e9']=e9\n",
    "# here we generating the neighbors of the target pixel"
   ]
  },
  {
   "cell_type": "code",
   "execution_count": 128,
   "metadata": {},
   "outputs": [
    {
     "name": "stdout",
     "output_type": "stream",
     "text": [
      "(28396, 16)\n"
     ]
    }
   ],
   "source": [
    "print(data.shape)"
   ]
  },
  {
   "cell_type": "code",
   "execution_count": 129,
   "metadata": {},
   "outputs": [],
   "source": [
    "for index, row in data.iterrows():\n",
    "    \n",
    "    if row['frame']==0.0:\n",
    "        pass\n",
    "    else:\n",
    "        current_u=row['u']\n",
    "        current_v=row['v']\n",
    "        previous_frame=row['frame']-1.0\n",
    "        if current_u==0 and current_v==0.0 and  previous_frame==0.0:\n",
    "            pass\n",
    "        a0=data.loc[((abs(data['u']-current_u)==0.0) & (data['frame']==previous_frame) & (abs(data['v']-current_v)==0.0)) ]['e']\n",
    "        a1=data.loc[((abs(data['u']==current_u -1))& (data['frame']==previous_frame) & (abs(data['v']==current_v -1))) ]['e']\n",
    "        a2= data.loc[((abs(data['u']==current_u-1)) & (data['frame']==previous_frame) & (abs(data['v']-current_v)<1.0)) ]['e']\n",
    "        a3= data.loc[((abs(data['u']==current_u-1)) & (data['frame']==previous_frame) & (abs(data['v']==current_v+1))) ]['e']\n",
    "        a4=data.loc[((abs(data['u']-current_u)<1.0) & (data['frame']==previous_frame) & (abs(data['v']==current_v-1))) ]['e']\n",
    "        a5= data.loc[((abs(data['u']-current_u)<1.0) & (data['frame']==previous_frame) & (abs(data['v']==current_v+1))) ]['e']\n",
    "        a6=data.loc[((abs(data['u']==current_u+1)) & (data['frame']==previous_frame) & (abs(data['v']==current_v-1))) ]['e']\n",
    "        a7= data.loc[((abs(data['u']==current_u+1)) & (data['frame']==previous_frame) & (abs(data['v']-current_v)<1.0)) ]['e']\n",
    "        a8=data.loc[((abs(data['u']==current_u+1)) & (data['frame']==previous_frame) & (abs(data['v']==current_v+1))) ]['e']\n",
    "        if (len(a0)!=0 and len(a0)<2) :   \n",
    "            data.at[index,'e1'] = a0\n",
    "        \n",
    "        if (len(a1)!=0 and len(a1)<2):\n",
    "            data.at[index,'e2'] = a1\n",
    "        \n",
    "        if (len(a2)!=0 and len(a2)<2):\n",
    "            data.at[index,'e3'] = a2\n",
    "           \n",
    "        if (len(a3)!=0 and len(a3)<2):\n",
    "            data.at[index,'e4'] = a3\n",
    "        \n",
    "        if (len(a4)!=0 and len(a4)<2):\n",
    "            data.at[index,'e5'] = a4\n",
    "        \n",
    "        if (len(a5)!=0 and len(a5)<2):\n",
    "            data.at[index,'e6'] = a5\n",
    "        \n",
    "        if (len(a6)!=0 and len(a6)<2):\n",
    "            data.at[index,'e7'] = a6\n",
    "        if (len(a7)!=0 and len(a7)<2):\n",
    "            data.at[index,'e8'] = a7\n",
    "       \n",
    "        if (len(a8)!=0 and len(a8)<2):\n",
    "            data.at[index,'e9'] = a8\n",
    "# here we are filling the values of e_k for neighbor pixels       "
   ]
  },
  {
   "cell_type": "code",
   "execution_count": 130,
   "metadata": {},
   "outputs": [],
   "source": [
    "data=data.drop(['e'],axis=1) "
   ]
  },
  {
   "cell_type": "code",
   "execution_count": 131,
   "metadata": {},
   "outputs": [
    {
     "name": "stdout",
     "output_type": "stream",
     "text": [
      "(28396, 15)\n"
     ]
    }
   ],
   "source": [
    "print(data.shape)"
   ]
  },
  {
   "cell_type": "code",
   "execution_count": 132,
   "metadata": {},
   "outputs": [],
   "source": [
    "target=data['y']# the target variable\n",
    "data_input=data.drop(['y'], axis=1) #the training examples"
   ]
  },
  {
   "cell_type": "code",
   "execution_count": 133,
   "metadata": {},
   "outputs": [],
   "source": [
    "data=pd.get_dummies(data, prefix=['frame'], columns=['frame'])#deal with categorical variable"
   ]
  },
  {
   "cell_type": "code",
   "execution_count": 134,
   "metadata": {},
   "outputs": [],
   "source": [
    "# partitionnate the data into train and test\n",
    "X_train, X_test, y_train, y_test = train_test_split(data_input, target, test_size=0.33, random_state=42)"
   ]
  },
  {
   "cell_type": "code",
   "execution_count": 135,
   "metadata": {},
   "outputs": [
    {
     "name": "stderr",
     "output_type": "stream",
     "text": [
      "C:\\Users\\LENOVO\\anaconda2021\\lib\\site-packages\\sklearn\\linear_model\\logistic.py:433: FutureWarning: Default solver will be changed to 'lbfgs' in 0.22. Specify a solver to silence this warning.\n",
      "  FutureWarning)\n"
     ]
    },
    {
     "name": "stdout",
     "output_type": "stream",
     "text": [
      "0.8213637818802689\n"
     ]
    }
   ],
   "source": [
    "clf = LogisticRegression(random_state=0).fit(X_train,y_train)# train the model using logisitc regression\n",
    "predictions=clf.predict(X_test)\n",
    "acc=accuracy_score(y_test, predictions, normalize=True)# determine the accuracy of the model\n",
    "print(acc)"
   ]
  },
  {
   "cell_type": "code",
   "execution_count": null,
   "metadata": {},
   "outputs": [],
   "source": []
  }
 ],
 "metadata": {
  "kernelspec": {
   "display_name": "Python 3",
   "language": "python",
   "name": "python3"
  }
 },
 "nbformat": 4,
 "nbformat_minor": 2
}
